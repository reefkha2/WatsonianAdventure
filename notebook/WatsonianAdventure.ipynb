{
 "cells": [
  {
   "cell_type": "markdown",
   "id": "3b8e7b1d",
   "metadata": {},
   "source": [
    "## WatsonianAdventure"
   ]
  },
  {
   "cell_type": "markdown",
   "id": "4801bca4",
   "metadata": {},
   "source": [
    "# Phase1: dataset selection & preprocessing \n",
    "\n"
   ]
  },
  {
   "cell_type": "markdown",
   "id": "fd2f4977",
   "metadata": {},
   "source": [
    "## Goal\n",
    "In order to determine the relation between two statements (a premise followed by a hypothesis), this project aims to create a machine-learning model that can classify and label the relationship with (contradiction, entailment, and neutral). There are several applications for this issue, including text summarization, question answering, and information retrieval.\n",
    "\n"
   ]
  },
  {
   "cell_type": "markdown",
   "id": "e47e2dc2",
   "metadata": {},
   "source": [
    "## Source of the Dataset\n",
    "The dataset was collected for the \"Contradictory, My Dear Watson\" Kaggle competition https://www.kaggle.com/competitions/contradictory-my-dear-watson/data?select=train.csv)"
   ]
  },
  {
   "cell_type": "code",
   "execution_count": 49,
   "id": "e3a1723a",
   "metadata": {
    "scrolled": true
   },
   "outputs": [],
   "source": [
    "#import needed libraries\n",
    "from langdetect import detect\n",
    "import pandas as pd\n",
    "import matplotlib.pyplot as plt\n",
    "import seaborn as sns\n",
    "import string\n",
    "import nltk\n",
    "from nltk.corpus import stopwords\n",
    "from nltk.tokenize import word_tokenize\n",
    "from nltk.stem import PorterStemmer"
   ]
  },
  {
   "cell_type": "code",
   "execution_count": 9,
   "id": "d3b455d0",
   "metadata": {
    "scrolled": true
   },
   "outputs": [],
   "source": [
    "# load the dataset\n",
    "df = pd.read_csv(r'../Dataset/train.csv')"
   ]
  },
  {
   "cell_type": "markdown",
   "id": "1b75ac01",
   "metadata": {},
   "source": [
    "## Data summary (descriptive analysis)"
   ]
  },
  {
   "cell_type": "markdown",
   "id": "1c55f6fb",
   "metadata": {},
   "source": [
    "#### Numbers and data decription\n"
   ]
  },
  {
   "cell_type": "code",
   "execution_count": 13,
   "id": "f3c0bb46",
   "metadata": {},
   "outputs": [
    {
     "data": {
      "text/plain": [
       "(12120, 6)"
      ]
     },
     "execution_count": 13,
     "metadata": {},
     "output_type": "execute_result"
    }
   ],
   "source": [
    "#we have 12,120 columns and 6 rows\n",
    "df.shape"
   ]
  },
  {
   "cell_type": "code",
   "execution_count": 21,
   "id": "122378ed",
   "metadata": {},
   "outputs": [
    {
     "data": {
      "text/plain": [
       "Index(['id', 'premise', 'hypothesis', 'lang_abv', 'language', 'label',\n",
       "       'category'],\n",
       "      dtype='object')"
      ]
     },
     "execution_count": 21,
     "metadata": {},
     "output_type": "execute_result"
    }
   ],
   "source": [
    "df.columns"
   ]
  },
  {
   "cell_type": "markdown",
   "id": "87a63f0d",
   "metadata": {},
   "source": [
    "### Data distrbution and visualization\n"
   ]
  },
  {
   "cell_type": "markdown",
   "id": "b0dcbde0",
   "metadata": {},
   "source": [
    "As it shows below. we have 4176 records labeled as entailment, 4064 neutral, and 3880 contradiction."
   ]
  },
  {
   "cell_type": "code",
   "execution_count": 14,
   "id": "2add7fb2",
   "metadata": {},
   "outputs": [
    {
     "data": {
      "text/plain": [
       "0    4176\n",
       "2    4064\n",
       "1    3880\n",
       "Name: label, dtype: int64"
      ]
     },
     "execution_count": 14,
     "metadata": {},
     "output_type": "execute_result"
    }
   ],
   "source": [
    "df['label'].value_counts()"
   ]
  },
  {
   "cell_type": "code",
   "execution_count": 16,
   "id": "5b50e086",
   "metadata": {},
   "outputs": [],
   "source": [
    "# adding column called category to visualize each (0 for entailment, 1 for neutral, 2 for contradiction)\n",
    "def category(label):\n",
    "    if label == 0:\n",
    "        return 'entailment'\n",
    "    elif label == 1:\n",
    "        return 'neutral'\n",
    "    elif label ==2:\n",
    "        return 'contradiction'\n",
    "\n",
    "df['category'] = df['label'].apply(category)"
   ]
  },
  {
   "cell_type": "markdown",
   "id": "0b783880",
   "metadata": {},
   "source": [
    "Visualizing the dataset indicates that each one of the categories has an approximately equal number of records"
   ]
  },
  {
   "cell_type": "code",
   "execution_count": 17,
   "id": "15878613",
   "metadata": {},
   "outputs": [
    {
     "data": {
      "image/png": "[encoded data removed]",
      "text/plain": [
       "<Figure size 504x504 with 1 Axes>"
      ]
     },
     "metadata": {},
     "output_type": "display_data"
    }
   ],
   "source": [
    "#using pie chart \n",
    "\n",
    "fig = plt.figure(figsize=(7,7))\n",
    "colors = (\"slategrey\", \"lightsteelblue\", \"steelblue\")\n",
    "tags = df['category'].value_counts()\n",
    "explode = (0.1,0.1)\n",
    "tags.plot(kind='pie', autopct='%1.1f%%', colors = colors,\n",
    "         startangle=90, label='')\n",
    "plt.title('Distrbution of categories')\n",
    "fig.set_facecolor('white')"
   ]
  },
  {
   "cell_type": "code",
   "execution_count": 20,
   "id": "0815ab76",
   "metadata": {},
   "outputs": [
    {
     "data": {
      "text/plain": [
       "<AxesSubplot:xlabel='category', ylabel='count'>"
      ]
     },
     "execution_count": 20,
     "metadata": {},
     "output_type": "execute_result"
    },
    {
     "data": {
      "image/png": "[encoded data removed]",
      "text/plain": [
       "<Figure size 360x360 with 1 Axes>"
      ]
     },
     "metadata": {
      "needs_background": "light"
     },
     "output_type": "display_data"
    }
   ],
   "source": [
    "#using bar chart\n",
    "fig = plt.figure(figsize=(5,5))\n",
    "sns.countplot(x='category', data = df)"
   ]
  },
  {
   "cell_type": "markdown",
   "id": "a95bb453",
   "metadata": {},
   "source": [
    "### Missing values"
   ]
  },
  {
   "cell_type": "markdown",
   "id": "89524100",
   "metadata": {},
   "source": [
    "turns out the dataset has no missing values as it says in the non-null count"
   ]
  },
  {
   "cell_type": "code",
   "execution_count": 24,
   "id": "836a9548",
   "metadata": {},
   "outputs": [
    {
     "name": "stdout",
     "output_type": "stream",
     "text": [
      "<class 'pandas.core.frame.DataFrame'>\n",
      "RangeIndex: 12120 entries, 0 to 12119\n",
      "Data columns (total 7 columns):\n",
      " #   Column      Non-Null Count  Dtype \n",
      "---  ------      --------------  ----- \n",
      " 0   id          12120 non-null  object\n",
      " 1   premise     12120 non-null  object\n",
      " 2   hypothesis  12120 non-null  object\n",
      " 3   lang_abv    12120 non-null  object\n",
      " 4   language    12120 non-null  object\n",
      " 5   label       12120 non-null  int64 \n",
      " 6   category    12120 non-null  object\n",
      "dtypes: int64(1), object(6)\n",
      "memory usage: 662.9+ KB\n"
     ]
    }
   ],
   "source": [
    "df.info(verbose=True)"
   ]
  },
  {
   "cell_type": "markdown",
   "id": "d10bb7d6",
   "metadata": {},
   "source": [
    "### Sattistical summaries"
   ]
  },
  {
   "cell_type": "markdown",
   "id": "80515a72",
   "metadata": {},
   "source": [
    "For each needed columns in training the models, we provided for each a statistical summary.And as it says below there are duplications in the dataset that need to be dropped in the cleaning and preprocessing"
   ]
  },
  {
   "cell_type": "code",
   "execution_count": 27,
   "id": "abc42fd6",
   "metadata": {},
   "outputs": [
    {
     "data": {
      "text/plain": [
       "count                                               12120\n",
       "unique                                               8209\n",
       "top       Through Responsive and Naturalistic Approaches.\n",
       "freq                                                    3\n",
       "Name: premise, dtype: object"
      ]
     },
     "execution_count": 27,
     "metadata": {},
     "output_type": "execute_result"
    }
   ],
   "source": [
    "df['premise'].describe()"
   ]
  },
  {
   "cell_type": "code",
   "execution_count": 28,
   "id": "b480e548",
   "metadata": {},
   "outputs": [
    {
     "data": {
      "text/plain": [
       "count              12120\n",
       "unique             12119\n",
       "top       I am not sure.\n",
       "freq                   2\n",
       "Name: hypothesis, dtype: object"
      ]
     },
     "execution_count": 28,
     "metadata": {},
     "output_type": "execute_result"
    }
   ],
   "source": [
    "df['hypothesis'].describe()"
   ]
  },
  {
   "cell_type": "code",
   "execution_count": 34,
   "id": "f0b7a534",
   "metadata": {},
   "outputs": [
    {
     "data": {
      "text/plain": [
       "count    12120.000000\n",
       "mean         0.990759\n",
       "std          0.824523\n",
       "min          0.000000\n",
       "25%          0.000000\n",
       "50%          1.000000\n",
       "75%          2.000000\n",
       "max          2.000000\n",
       "Name: label, dtype: float64"
      ]
     },
     "execution_count": 34,
     "metadata": {},
     "output_type": "execute_result"
    }
   ],
   "source": [
    "df['label'].describe()"
   ]
  },
  {
   "cell_type": "markdown",
   "id": "c6db9c70",
   "metadata": {},
   "source": [
    "### Sample"
   ]
  },
  {
   "cell_type": "code",
   "execution_count": 33,
   "id": "feca8b5d",
   "metadata": {},
   "outputs": [
    {
     "data": {
      "text/html": [
       "<div>\n",
       "<style scoped>\n",
       "    .dataframe tbody tr th:only-of-type {\n",
       "        vertical-align: middle;\n",
       "    }\n",
       "\n",
       "    .dataframe tbody tr th {\n",
       "        vertical-align: top;\n",
       "    }\n",
       "\n",
       "    .dataframe thead th {\n",
       "        text-align: right;\n",
       "    }\n",
       "</style>\n",
       "<table border=\"1\" class=\"dataframe\">\n",
       "  <thead>\n",
       "    <tr style=\"text-align: right;\">\n",
       "      <th></th>\n",
       "      <th>premise</th>\n",
       "      <th>hypothesis</th>\n",
       "      <th>label</th>\n",
       "      <th>category</th>\n",
       "    </tr>\n",
       "  </thead>\n",
       "  <tbody>\n",
       "    <tr>\n",
       "      <th>0</th>\n",
       "      <td>and these comments were considered in formulat...</td>\n",
       "      <td>The rules developed in the interim were put to...</td>\n",
       "      <td>0</td>\n",
       "      <td>entailment</td>\n",
       "    </tr>\n",
       "    <tr>\n",
       "      <th>1</th>\n",
       "      <td>These are issues that we wrestle with in pract...</td>\n",
       "      <td>Practice groups are not permitted to work on t...</td>\n",
       "      <td>2</td>\n",
       "      <td>contradiction</td>\n",
       "    </tr>\n",
       "    <tr>\n",
       "      <th>2</th>\n",
       "      <td>Des petites choses comme celles-là font une di...</td>\n",
       "      <td>J'essayais d'accomplir quelque chose.</td>\n",
       "      <td>0</td>\n",
       "      <td>entailment</td>\n",
       "    </tr>\n",
       "    <tr>\n",
       "      <th>3</th>\n",
       "      <td>you know they can't really defend themselves l...</td>\n",
       "      <td>They can't defend themselves because of their ...</td>\n",
       "      <td>0</td>\n",
       "      <td>entailment</td>\n",
       "    </tr>\n",
       "    <tr>\n",
       "      <th>4</th>\n",
       "      <td>ในการเล่นบทบาทสมมุติก็เช่นกัน โอกาสที่จะได้แสด...</td>\n",
       "      <td>เด็กสามารถเห็นได้ว่าชาติพันธุ์แตกต่างกันอย่างไร</td>\n",
       "      <td>1</td>\n",
       "      <td>neutral</td>\n",
       "    </tr>\n",
       "  </tbody>\n",
       "</table>\n",
       "</div>"
      ],
      "text/plain": [
       "                                             premise  \\\n",
       "0  and these comments were considered in formulat...   \n",
       "1  These are issues that we wrestle with in pract...   \n",
       "2  Des petites choses comme celles-là font une di...   \n",
       "3  you know they can't really defend themselves l...   \n",
       "4  ในการเล่นบทบาทสมมุติก็เช่นกัน โอกาสที่จะได้แสด...   \n",
       "\n",
       "                                          hypothesis  label       category  \n",
       "0  The rules developed in the interim were put to...      0     entailment  \n",
       "1  Practice groups are not permitted to work on t...      2  contradiction  \n",
       "2              J'essayais d'accomplir quelque chose.      0     entailment  \n",
       "3  They can't defend themselves because of their ...      0     entailment  \n",
       "4    เด็กสามารถเห็นได้ว่าชาติพันธุ์แตกต่างกันอย่างไร      1        neutral  "
      ]
     },
     "execution_count": 33,
     "metadata": {},
     "output_type": "execute_result"
    }
   ],
   "source": [
    "text_df = df.drop(['id','language','lang_abv',],axis=1)\n",
    "text_df.head(5)"
   ]
  },
  {
   "cell_type": "markdown",
   "id": "c7cd1416",
   "metadata": {},
   "source": [
    "## Data preprocessing and cleaning"
   ]
  },
  {
   "cell_type": "markdown",
   "id": "38033fd3",
   "metadata": {},
   "source": [
    "**We are going to start cleaning and preprocessing dataset by applying the following :**\n",
    "- Dropping non-english records\n",
    "\n",
    "- Removing duplications\n",
    "\n",
    "- Removing punctuations\n",
    "\n",
    "- Remove stop words\n",
    "\n",
    "- Tokenization\n",
    "\n",
    "- Stemming \n",
    "\n",
    "- Word Embeddings "
   ]
  },
  {
   "cell_type": "markdown",
   "id": "7952b3ba",
   "metadata": {},
   "source": [
    "### Dropping non english records"
   ]
  },
  {
   "cell_type": "markdown",
   "id": "1648a327",
   "metadata": {},
   "source": [
    "Dropping non-english records since the models we're going to use and train are specific to the English language and this step will impove its performance"
   ]
  },
  {
   "cell_type": "code",
   "execution_count": 36,
   "id": "f1f6c3e6",
   "metadata": {},
   "outputs": [
    {
     "name": "stdout",
     "output_type": "stream",
     "text": [
      "English    6870\n",
      "Name: language, dtype: int64\n"
     ]
    }
   ],
   "source": [
    "df.drop(df.index[df['lang_abv'] != 'en'], inplace=True)\n",
    "print(df.language.value_counts())"
   ]
  },
  {
   "cell_type": "code",
   "execution_count": 37,
   "id": "4e94ee2d",
   "metadata": {},
   "outputs": [
    {
     "data": {
      "text/plain": [
       "(6870, 7)"
      ]
     },
     "execution_count": 37,
     "metadata": {},
     "output_type": "execute_result"
    }
   ],
   "source": [
    "df.shape"
   ]
  },
  {
   "cell_type": "markdown",
   "id": "2bca5317",
   "metadata": {},
   "source": [
    "### Removing duplications"
   ]
  },
  {
   "cell_type": "markdown",
   "id": "b89dbe25",
   "metadata": {},
   "source": [
    "We have to remove duplications to avoid overfitting, which occurs when the model learns the training data too well and performs poorly on new, unseen data. Furthermore, removing duplicates helps reduce the risk of overfitting by providing a more diverse set of training data. Also, it can reduce the amount of data that needs to be processed during training, which can improve the efficiency of the modeling process and reduce the time and computational resources required."
   ]
  },
  {
   "cell_type": "code",
   "execution_count": 38,
   "id": "e5927fea",
   "metadata": {},
   "outputs": [],
   "source": [
    "df.drop_duplicates(subset='premise', inplace=True)\n",
    "df.drop_duplicates(subset='hypothesis', inplace=True)"
   ]
  },
  {
   "cell_type": "code",
   "execution_count": 39,
   "id": "51fbd1b9",
   "metadata": {},
   "outputs": [
    {
     "name": "stdout",
     "output_type": "stream",
     "text": [
      "0\n",
      "0\n"
     ]
    }
   ],
   "source": [
    "#to make sure we don't have any duplications \n",
    "print(sum(df.duplicated(subset='premise')))\n",
    "print(sum(df.duplicated(subset='hypothesis')))"
   ]
  },
  {
   "cell_type": "markdown",
   "id": "41d88b80",
   "metadata": {},
   "source": [
    "### Removing punctuations"
   ]
  },
  {
   "cell_type": "markdown",
   "id": "dfd44594",
   "metadata": {},
   "source": [
    "Punctuation marks can significantly increase the dimensionality of the data, which can make it more difficult to analyze and model. By removing punctuation, we can reduce the dimensionality of the data and simplify the modeling process. It also can help improve the accuracy of the model by reducing the amount of noise in the data."
   ]
  },
  {
   "cell_type": "code",
   "execution_count": 41,
   "id": "67237109",
   "metadata": {},
   "outputs": [
    {
     "data": {
      "text/html": [
       "<div>\n",
       "<style scoped>\n",
       "    .dataframe tbody tr th:only-of-type {\n",
       "        vertical-align: middle;\n",
       "    }\n",
       "\n",
       "    .dataframe tbody tr th {\n",
       "        vertical-align: top;\n",
       "    }\n",
       "\n",
       "    .dataframe thead th {\n",
       "        text-align: right;\n",
       "    }\n",
       "</style>\n",
       "<table border=\"1\" class=\"dataframe\">\n",
       "  <thead>\n",
       "    <tr style=\"text-align: right;\">\n",
       "      <th></th>\n",
       "      <th>id</th>\n",
       "      <th>premise</th>\n",
       "      <th>hypothesis</th>\n",
       "      <th>lang_abv</th>\n",
       "      <th>language</th>\n",
       "      <th>label</th>\n",
       "      <th>category</th>\n",
       "    </tr>\n",
       "  </thead>\n",
       "  <tbody>\n",
       "    <tr>\n",
       "      <th>0</th>\n",
       "      <td>5130fd2cb5</td>\n",
       "      <td>and these comments were considered in formulat...</td>\n",
       "      <td>The rules developed in the interim were put to...</td>\n",
       "      <td>en</td>\n",
       "      <td>English</td>\n",
       "      <td>0</td>\n",
       "      <td>entailment</td>\n",
       "    </tr>\n",
       "    <tr>\n",
       "      <th>1</th>\n",
       "      <td>5b72532a0b</td>\n",
       "      <td>These are issues that we wrestle with in pract...</td>\n",
       "      <td>Practice groups are not permitted to work on t...</td>\n",
       "      <td>en</td>\n",
       "      <td>English</td>\n",
       "      <td>2</td>\n",
       "      <td>contradiction</td>\n",
       "    </tr>\n",
       "    <tr>\n",
       "      <th>3</th>\n",
       "      <td>5622f0c60b</td>\n",
       "      <td>you know they cant really defend themselves li...</td>\n",
       "      <td>They cant defend themselves because of their age</td>\n",
       "      <td>en</td>\n",
       "      <td>English</td>\n",
       "      <td>0</td>\n",
       "      <td>entailment</td>\n",
       "    </tr>\n",
       "    <tr>\n",
       "      <th>7</th>\n",
       "      <td>fdcd1bd867</td>\n",
       "      <td>From Cockpit Country to St Anns Bay</td>\n",
       "      <td>From St Anns Bay to Cockpit Country</td>\n",
       "      <td>en</td>\n",
       "      <td>English</td>\n",
       "      <td>2</td>\n",
       "      <td>contradiction</td>\n",
       "    </tr>\n",
       "    <tr>\n",
       "      <th>8</th>\n",
       "      <td>7cfb3d272c</td>\n",
       "      <td>Look its your skin but youre going to be in tr...</td>\n",
       "      <td>The boss will fire you if he sees you slacking...</td>\n",
       "      <td>en</td>\n",
       "      <td>English</td>\n",
       "      <td>1</td>\n",
       "      <td>neutral</td>\n",
       "    </tr>\n",
       "    <tr>\n",
       "      <th>16</th>\n",
       "      <td>dd4f0d9f25</td>\n",
       "      <td>If you people only knew how fatally easy it is...</td>\n",
       "      <td>Many people have poisoned someone by mistake</td>\n",
       "      <td>en</td>\n",
       "      <td>English</td>\n",
       "      <td>1</td>\n",
       "      <td>neutral</td>\n",
       "    </tr>\n",
       "    <tr>\n",
       "      <th>17</th>\n",
       "      <td>0a3f52c547</td>\n",
       "      <td>My own little corner of the world policy wonki...</td>\n",
       "      <td>An example is policy wonking</td>\n",
       "      <td>en</td>\n",
       "      <td>English</td>\n",
       "      <td>0</td>\n",
       "      <td>entailment</td>\n",
       "    </tr>\n",
       "    <tr>\n",
       "      <th>18</th>\n",
       "      <td>4b0eca3ccb</td>\n",
       "      <td>life in prison then hes available for parole i...</td>\n",
       "      <td>The system is corrupt because he wont be able ...</td>\n",
       "      <td>en</td>\n",
       "      <td>English</td>\n",
       "      <td>1</td>\n",
       "      <td>neutral</td>\n",
       "    </tr>\n",
       "    <tr>\n",
       "      <th>19</th>\n",
       "      <td>cad235551c</td>\n",
       "      <td>The streets are crammed with vendors selling s...</td>\n",
       "      <td>Vendors have lined the streets with torches an...</td>\n",
       "      <td>en</td>\n",
       "      <td>English</td>\n",
       "      <td>2</td>\n",
       "      <td>contradiction</td>\n",
       "    </tr>\n",
       "    <tr>\n",
       "      <th>20</th>\n",
       "      <td>d8b3a4fb06</td>\n",
       "      <td>North of Mytilini stop at the village of Moria...</td>\n",
       "      <td>There is nothing special to see in the village...</td>\n",
       "      <td>en</td>\n",
       "      <td>English</td>\n",
       "      <td>2</td>\n",
       "      <td>contradiction</td>\n",
       "    </tr>\n",
       "  </tbody>\n",
       "</table>\n",
       "</div>"
      ],
      "text/plain": [
       "            id                                            premise  \\\n",
       "0   5130fd2cb5  and these comments were considered in formulat...   \n",
       "1   5b72532a0b  These are issues that we wrestle with in pract...   \n",
       "3   5622f0c60b  you know they cant really defend themselves li...   \n",
       "7   fdcd1bd867                From Cockpit Country to St Anns Bay   \n",
       "8   7cfb3d272c  Look its your skin but youre going to be in tr...   \n",
       "16  dd4f0d9f25  If you people only knew how fatally easy it is...   \n",
       "17  0a3f52c547  My own little corner of the world policy wonki...   \n",
       "18  4b0eca3ccb  life in prison then hes available for parole i...   \n",
       "19  cad235551c  The streets are crammed with vendors selling s...   \n",
       "20  d8b3a4fb06  North of Mytilini stop at the village of Moria...   \n",
       "\n",
       "                                           hypothesis lang_abv language  \\\n",
       "0   The rules developed in the interim were put to...       en  English   \n",
       "1   Practice groups are not permitted to work on t...       en  English   \n",
       "3    They cant defend themselves because of their age       en  English   \n",
       "7                 From St Anns Bay to Cockpit Country       en  English   \n",
       "8   The boss will fire you if he sees you slacking...       en  English   \n",
       "16       Many people have poisoned someone by mistake       en  English   \n",
       "17                       An example is policy wonking       en  English   \n",
       "18  The system is corrupt because he wont be able ...       en  English   \n",
       "19  Vendors have lined the streets with torches an...       en  English   \n",
       "20  There is nothing special to see in the village...       en  English   \n",
       "\n",
       "    label       category  \n",
       "0       0     entailment  \n",
       "1       2  contradiction  \n",
       "3       0     entailment  \n",
       "7       2  contradiction  \n",
       "8       1        neutral  \n",
       "16      1        neutral  \n",
       "17      0     entailment  \n",
       "18      1        neutral  \n",
       "19      2  contradiction  \n",
       "20      2  contradiction  "
      ]
     },
     "metadata": {},
     "output_type": "display_data"
    }
   ],
   "source": [
    "def remove_punctuations(col):\n",
    "   translator = str.maketrans('','',string.punctuation)\n",
    "   return col.translate(translator)\n",
    "\n",
    "df['premise'] = df['premise'].apply(remove_punctuations)\n",
    "df['hypothesis'] = df['hypothesis'].apply(remove_punctuations)\n",
    "display(df.head(10))"
   ]
  },
  {
   "cell_type": "markdown",
   "id": "13eae4ce",
   "metadata": {},
   "source": [
    "### Tokenization"
   ]
  },
  {
   "cell_type": "markdown",
   "id": "e72a2ba9",
   "metadata": {},
   "source": [
    "Breaking down text into individual tokens or words. To represent text as a sequence of discrete symbols that can be processed by machine learning algorithms.\n",
    "\n",
    "Tokenization is often used as a first step in feature extraction for machine learning models. By converting text data into a set of tokens, we can represent the text as a numerical feature vector that can be used as input to a machine learning model."
   ]
  },
  {
   "cell_type": "code",
   "execution_count": 45,
   "id": "50bb4898",
   "metadata": {
    "scrolled": true
   },
   "outputs": [
    {
     "name": "stderr",
     "output_type": "stream",
     "text": [
      "[nltk_data] Downloading package punkt to /Users/reefkha/nltk_data...\n",
      "[nltk_data]   Package punkt is already up-to-date!\n"
     ]
    }
   ],
   "source": [
    "nltk.download('punkt')\n",
    "\n",
    "# tokenize text\n",
    "df['premise'] = df['premise'].apply(lambda x: word_tokenize(str(x)))\n",
    "df['hypothesis'] = df['hypothesis'].apply(lambda x: word_tokenize(str(x)))"
   ]
  },
  {
   "cell_type": "markdown",
   "id": "0a884f2e",
   "metadata": {},
   "source": [
    "### Stop word removal"
   ]
  },
  {
   "cell_type": "markdown",
   "id": "efc20bb8",
   "metadata": {},
   "source": [
    "Stop words are commonly used words in a language. Examples of stop words in English include \"the\", \"and\", \"a\", \"an\", \"in\", \"on\", etc. We remove them because they don't carry much meaning in the context of the text and can add noise to the analysis.\n",
    "\n",
    "The reason for that is to simplify the modeling process, improve accuracy, ensure consistency, and speed up processing."
   ]
  },
  {
   "cell_type": "code",
   "execution_count": 48,
   "id": "10ac122c",
   "metadata": {},
   "outputs": [
    {
     "name": "stderr",
     "output_type": "stream",
     "text": [
      "[nltk_data] Downloading package stopwords to\n",
      "[nltk_data]     /Users/reefkha/nltk_data...\n",
      "[nltk_data]   Package stopwords is already up-to-date!\n"
     ]
    }
   ],
   "source": [
    "nltk.download('stopwords')\n",
    "\n",
    "stop_words = set(stopwords.words('english'))\n",
    "df['premise'] = df['premise'].apply(lambda x: ' '.join([word for word in str(x).split() if word.lower() not in stop_words]))\n",
    "df['hypothesis'] = df['hypothesis'].apply(lambda x: ' '.join([word for word in str(x).split() if word.lower() not in stop_words]))"
   ]
  },
  {
   "cell_type": "markdown",
   "id": "fff373b7",
   "metadata": {},
   "source": [
    "### Stemming"
   ]
  },
  {
   "cell_type": "markdown",
   "id": "3ea795ca",
   "metadata": {},
   "source": [
    " Normalize the words to their base form, which can help reduce the dimensionality of the data and improve the accuracy of the model. Stemming involves removing the suffixes from words to reduce them to their root form (e.g., \"jumping\" to \"jump\").\n",
    "\n",
    " Stemming can help to improve the accuracy of NLP models by reducing the number of unique words in the data and speed up the processing of text data by reducing the number of unique words that need to be processed"
   ]
  },
  {
   "cell_type": "code",
   "execution_count": 50,
   "id": "74a15a4f",
   "metadata": {},
   "outputs": [
    {
     "name": "stdout",
     "output_type": "stream",
     "text": [
      "           id                                            premise  \\\n",
      "0  5130fd2cb5  ['comments', 'considered', 'formulating', 'int...   \n",
      "1  5b72532a0b  ['issues', 'wrestle', 'practice', 'groups', 'l...   \n",
      "3  5622f0c60b  ['know', 'cant', 'really', 'defend', 'like', '...   \n",
      "7  fdcd1bd867        ['cockpit', 'country', 'st', 'anns', 'bay']   \n",
      "8  7cfb3d272c  ['look', 'skin', 'youre', 'going', 'trouble', ...   \n",
      "\n",
      "                                          hypothesis lang_abv language  label  \\\n",
      "0  ['rules', 'developed', 'interim', 'put', 'toge...       en  English      0   \n",
      "1  ['practice', 'groups', 'permitted', 'work', 'i...       en  English      2   \n",
      "3                          ['cant', 'defend', 'age']       en  English      0   \n",
      "7        ['st', 'anns', 'bay', 'cockpit', 'country']       en  English      2   \n",
      "8               ['boss', 'fire', 'sees', 'slacking']       en  English      1   \n",
      "\n",
      "        category  \n",
      "0     entailment  \n",
      "1  contradiction  \n",
      "3     entailment  \n",
      "7  contradiction  \n",
      "8        neutral  \n"
     ]
    }
   ],
   "source": [
    "# Create a stemmer object\n",
    "stemmer = PorterStemmer()\n",
    "\n",
    "# Define a function to perform stemming on a text column\n",
    "def stem_text(text):\n",
    "    # Tokenize the text into words\n",
    "    words = text.split()\n",
    "\n",
    "    # Stem each word in the list\n",
    "    stemmed_words = [stemmer.stem(word) for word in words]\n",
    "\n",
    "    # Join the stemmed words back into a single string\n",
    "    stemmed_text = ' '.join(stemmed_words)\n",
    "\n",
    "    return stemmed_text\n",
    "\n",
    "# Apply the stemming function to a text column in the dataset\n",
    "df['premise'] = df['premise'].apply(stem_text)\n",
    "df['hypothesis'] = df['hypothesis'].apply(stem_text)\n",
    "\n",
    "# Print the first few rows of the stemmed dataset\n",
    "print(df.head())"
   ]
  },
  {
   "cell_type": "markdown",
   "id": "0c63d3c3",
   "metadata": {},
   "source": [
    "### Word embeddings"
   ]
  },
  {
   "cell_type": "markdown",
   "id": "871c83e9",
   "metadata": {},
   "source": [
    "Representing text data as high-dimensional vectors. To capture the semantic relationships between words and phrases, which can improve the accuracy of your machine learning model.\n",
    "\n",
    "Word embedding provides a more efficient representation of text data than one-hot encoding, which can be very sparse and high-dimensional. Also, it compresses the word representation into a dense vector, which can capture more nuanced relationships between words."
   ]
  },
  {
   "cell_type": "code",
   "execution_count": 47,
   "id": "856c9110",
   "metadata": {
    "scrolled": true
   },
   "outputs": [
    {
     "ename": "ValueError",
     "evalue": "numpy.ndarray size changed, may indicate binary incompatibility. Expected 96 from C header, got 80 from PyObject",
     "output_type": "error",
     "traceback": [
      "\u001b[0;31m---------------------------------------------------------------------------\u001b[0m",
      "\u001b[0;31mValueError\u001b[0m                                Traceback (most recent call last)",
      "\u001b[0;32m<ipython-input-47-4df526190e29>\u001b[0m in \u001b[0;36m<module>\u001b[0;34m\u001b[0m\n\u001b[0;32m----> 1\u001b[0;31m \u001b[0;32mfrom\u001b[0m \u001b[0mgensim\u001b[0m\u001b[0;34m.\u001b[0m\u001b[0mmodels\u001b[0m \u001b[0;32mimport\u001b[0m \u001b[0mKeyedVectors\u001b[0m\u001b[0;34m\u001b[0m\u001b[0;34m\u001b[0m\u001b[0m\n\u001b[0m\u001b[1;32m      2\u001b[0m \u001b[0;34m\u001b[0m\u001b[0m\n\u001b[1;32m      3\u001b[0m \u001b[0;31m# load the pre-trained GloVe embeddings\u001b[0m\u001b[0;34m\u001b[0m\u001b[0;34m\u001b[0m\u001b[0;34m\u001b[0m\u001b[0m\n\u001b[1;32m      4\u001b[0m \u001b[0;31m# download the GloVe embeddings file from the official website at https://nlp.stanford.edu/projects/glove/.\u001b[0m\u001b[0;34m\u001b[0m\u001b[0;34m\u001b[0m\u001b[0;34m\u001b[0m\u001b[0m\n\u001b[1;32m      5\u001b[0m \u001b[0mglove_model\u001b[0m \u001b[0;34m=\u001b[0m \u001b[0mKeyedVectors\u001b[0m\u001b[0;34m.\u001b[0m\u001b[0mload_word2vec_format\u001b[0m\u001b[0;34m(\u001b[0m\u001b[0;34m'/Users/2rwak/Desktop/contradictory-my-dear-watson/glove.6B.100d.txt'\u001b[0m\u001b[0;34m,\u001b[0m \u001b[0mbinary\u001b[0m\u001b[0;34m=\u001b[0m\u001b[0;32mFalse\u001b[0m\u001b[0;34m,\u001b[0m \u001b[0mno_header\u001b[0m\u001b[0;34m=\u001b[0m\u001b[0;32mTrue\u001b[0m\u001b[0;34m)\u001b[0m\u001b[0;34m\u001b[0m\u001b[0;34m\u001b[0m\u001b[0m\n",
      "\u001b[0;32m~/opt/anaconda3/lib/python3.8/site-packages/gensim/__init__.py\u001b[0m in \u001b[0;36m<module>\u001b[0;34m\u001b[0m\n\u001b[1;32m      9\u001b[0m \u001b[0;32mimport\u001b[0m \u001b[0mlogging\u001b[0m\u001b[0;34m\u001b[0m\u001b[0;34m\u001b[0m\u001b[0m\n\u001b[1;32m     10\u001b[0m \u001b[0;34m\u001b[0m\u001b[0m\n\u001b[0;32m---> 11\u001b[0;31m \u001b[0;32mfrom\u001b[0m \u001b[0mgensim\u001b[0m \u001b[0;32mimport\u001b[0m \u001b[0mparsing\u001b[0m\u001b[0;34m,\u001b[0m \u001b[0mcorpora\u001b[0m\u001b[0;34m,\u001b[0m \u001b[0mmatutils\u001b[0m\u001b[0;34m,\u001b[0m \u001b[0minterfaces\u001b[0m\u001b[0;34m,\u001b[0m \u001b[0mmodels\u001b[0m\u001b[0;34m,\u001b[0m \u001b[0msimilarities\u001b[0m\u001b[0;34m,\u001b[0m \u001b[0mutils\u001b[0m  \u001b[0;31m# noqa:F401\u001b[0m\u001b[0;34m\u001b[0m\u001b[0;34m\u001b[0m\u001b[0m\n\u001b[0m\u001b[1;32m     12\u001b[0m \u001b[0;34m\u001b[0m\u001b[0m\n\u001b[1;32m     13\u001b[0m \u001b[0;34m\u001b[0m\u001b[0m\n",
      "\u001b[0;32m~/opt/anaconda3/lib/python3.8/site-packages/gensim/corpora/__init__.py\u001b[0m in \u001b[0;36m<module>\u001b[0;34m\u001b[0m\n\u001b[1;32m      4\u001b[0m \u001b[0;34m\u001b[0m\u001b[0m\n\u001b[1;32m      5\u001b[0m \u001b[0;31m# bring corpus classes directly into package namespace, to save some typing\u001b[0m\u001b[0;34m\u001b[0m\u001b[0;34m\u001b[0m\u001b[0;34m\u001b[0m\u001b[0m\n\u001b[0;32m----> 6\u001b[0;31m \u001b[0;32mfrom\u001b[0m \u001b[0;34m.\u001b[0m\u001b[0mindexedcorpus\u001b[0m \u001b[0;32mimport\u001b[0m \u001b[0mIndexedCorpus\u001b[0m  \u001b[0;31m# noqa:F401 must appear before the other classes\u001b[0m\u001b[0;34m\u001b[0m\u001b[0;34m\u001b[0m\u001b[0m\n\u001b[0m\u001b[1;32m      7\u001b[0m \u001b[0;34m\u001b[0m\u001b[0m\n\u001b[1;32m      8\u001b[0m \u001b[0;32mfrom\u001b[0m \u001b[0;34m.\u001b[0m\u001b[0mmmcorpus\u001b[0m \u001b[0;32mimport\u001b[0m \u001b[0mMmCorpus\u001b[0m  \u001b[0;31m# noqa:F401\u001b[0m\u001b[0;34m\u001b[0m\u001b[0;34m\u001b[0m\u001b[0m\n",
      "\u001b[0;32m~/opt/anaconda3/lib/python3.8/site-packages/gensim/corpora/indexedcorpus.py\u001b[0m in \u001b[0;36m<module>\u001b[0;34m\u001b[0m\n\u001b[1;32m     12\u001b[0m \u001b[0;32mimport\u001b[0m \u001b[0mnumpy\u001b[0m\u001b[0;34m\u001b[0m\u001b[0;34m\u001b[0m\u001b[0m\n\u001b[1;32m     13\u001b[0m \u001b[0;34m\u001b[0m\u001b[0m\n\u001b[0;32m---> 14\u001b[0;31m \u001b[0;32mfrom\u001b[0m \u001b[0mgensim\u001b[0m \u001b[0;32mimport\u001b[0m \u001b[0minterfaces\u001b[0m\u001b[0;34m,\u001b[0m \u001b[0mutils\u001b[0m\u001b[0;34m\u001b[0m\u001b[0;34m\u001b[0m\u001b[0m\n\u001b[0m\u001b[1;32m     15\u001b[0m \u001b[0;34m\u001b[0m\u001b[0m\n\u001b[1;32m     16\u001b[0m \u001b[0mlogger\u001b[0m \u001b[0;34m=\u001b[0m \u001b[0mlogging\u001b[0m\u001b[0;34m.\u001b[0m\u001b[0mgetLogger\u001b[0m\u001b[0;34m(\u001b[0m\u001b[0m__name__\u001b[0m\u001b[0;34m)\u001b[0m\u001b[0;34m\u001b[0m\u001b[0;34m\u001b[0m\u001b[0m\n",
      "\u001b[0;32m~/opt/anaconda3/lib/python3.8/site-packages/gensim/interfaces.py\u001b[0m in \u001b[0;36m<module>\u001b[0;34m\u001b[0m\n\u001b[1;32m     17\u001b[0m \u001b[0;32mimport\u001b[0m \u001b[0mlogging\u001b[0m\u001b[0;34m\u001b[0m\u001b[0;34m\u001b[0m\u001b[0m\n\u001b[1;32m     18\u001b[0m \u001b[0;34m\u001b[0m\u001b[0m\n\u001b[0;32m---> 19\u001b[0;31m \u001b[0;32mfrom\u001b[0m \u001b[0mgensim\u001b[0m \u001b[0;32mimport\u001b[0m \u001b[0mutils\u001b[0m\u001b[0;34m,\u001b[0m \u001b[0mmatutils\u001b[0m\u001b[0;34m\u001b[0m\u001b[0;34m\u001b[0m\u001b[0m\n\u001b[0m\u001b[1;32m     20\u001b[0m \u001b[0;34m\u001b[0m\u001b[0m\n\u001b[1;32m     21\u001b[0m \u001b[0;34m\u001b[0m\u001b[0m\n",
      "\u001b[0;32m~/opt/anaconda3/lib/python3.8/site-packages/gensim/matutils.py\u001b[0m in \u001b[0;36m<module>\u001b[0;34m\u001b[0m\n\u001b[1;32m   1028\u001b[0m \u001b[0;32mtry\u001b[0m\u001b[0;34m:\u001b[0m\u001b[0;34m\u001b[0m\u001b[0;34m\u001b[0m\u001b[0m\n\u001b[1;32m   1029\u001b[0m     \u001b[0;31m# try to load fast, cythonized code if possible\u001b[0m\u001b[0;34m\u001b[0m\u001b[0;34m\u001b[0m\u001b[0;34m\u001b[0m\u001b[0m\n\u001b[0;32m-> 1030\u001b[0;31m     \u001b[0;32mfrom\u001b[0m \u001b[0mgensim\u001b[0m\u001b[0;34m.\u001b[0m\u001b[0m_matutils\u001b[0m \u001b[0;32mimport\u001b[0m \u001b[0mlogsumexp\u001b[0m\u001b[0;34m,\u001b[0m \u001b[0mmean_absolute_difference\u001b[0m\u001b[0;34m,\u001b[0m \u001b[0mdirichlet_expectation\u001b[0m\u001b[0;34m\u001b[0m\u001b[0;34m\u001b[0m\u001b[0m\n\u001b[0m\u001b[1;32m   1031\u001b[0m \u001b[0;34m\u001b[0m\u001b[0m\n\u001b[1;32m   1032\u001b[0m \u001b[0;32mexcept\u001b[0m \u001b[0mImportError\u001b[0m\u001b[0;34m:\u001b[0m\u001b[0;34m\u001b[0m\u001b[0;34m\u001b[0m\u001b[0m\n",
      "\u001b[0;32m~/opt/anaconda3/lib/python3.8/site-packages/gensim/_matutils.pyx\u001b[0m in \u001b[0;36minit gensim._matutils\u001b[0;34m()\u001b[0m\n",
      "\u001b[0;31mValueError\u001b[0m: numpy.ndarray size changed, may indicate binary incompatibility. Expected 96 from C header, got 80 from PyObject"
     ]
    }
   ],
   "source": [
    "from gensim.models import KeyedVectors\n",
    "\n",
    "# load the pre-trained GloVe embeddings\n",
    "# download the GloVe embeddings file from the official website at https://nlp.stanford.edu/projects/glove/.\n",
    "glove_model = KeyedVectors.load_word2vec_format('/Users/2rwak/Desktop/contradictory-my-dear-watson/glove.6B.100d.txt', binary=False, no_header=True)\n",
    "\n",
    "# convert premise and hypothesis to their vector representations\n",
    "premise_vectors = []\n",
    "for premise in df['premise']:\n",
    "    tokens = word_tokenize(premise)\n",
    "    vectors = [glove_model[word] for word in tokens if word in glove_model.key_to_index]\n",
    "    if len(vectors) > 0:\n",
    "        premise_vectors.append(np.mean(vectors, axis=0))\n",
    "    else:\n",
    "        premise_vectors.append(np.zeros((100,)))\n",
    "df['premise_vectors'] = premise_vectors\n",
    "\n",
    "hypothesis_vectors = []\n",
    "for hypothesis in df['hypothesis']:\n",
    "    tokens = word_tokenize(hypothesis)\n",
    "    vectors = [glove_model[word] for word in tokens if word in glove_model.key_to_index]\n",
    "    if len(vectors) > 0:\n",
    "        hypothesis_vectors.append(np.mean(vectors, axis=0))\n",
    "    else:\n",
    "        hypothesis_vectors.append(np.zeros((100,)))\n",
    "df['hypothesis_vectors'] = hypothesis_vectors\n"
   ]
  },
  {
   "cell_type": "code",
   "execution_count": 52,
   "id": "2cb9f1d9",
   "metadata": {},
   "outputs": [],
   "source": [
    "# drop unnecessary columns\n",
    "df = df = df.drop(columns=['id','language','lang_abv','category'])"
   ]
  },
  {
   "cell_type": "code",
   "execution_count": 55,
   "id": "c60cb147",
   "metadata": {},
   "outputs": [
    {
     "data": {
      "text/html": [
       "<div>\n",
       "<style scoped>\n",
       "    .dataframe tbody tr th:only-of-type {\n",
       "        vertical-align: middle;\n",
       "    }\n",
       "\n",
       "    .dataframe tbody tr th {\n",
       "        vertical-align: top;\n",
       "    }\n",
       "\n",
       "    .dataframe thead th {\n",
       "        text-align: right;\n",
       "    }\n",
       "</style>\n",
       "<table border=\"1\" class=\"dataframe\">\n",
       "  <thead>\n",
       "    <tr style=\"text-align: right;\">\n",
       "      <th></th>\n",
       "      <th>premise</th>\n",
       "      <th>hypothesis</th>\n",
       "      <th>label</th>\n",
       "    </tr>\n",
       "  </thead>\n",
       "  <tbody>\n",
       "    <tr>\n",
       "      <th>0</th>\n",
       "      <td>['comments', 'considered', 'formulating', 'int...</td>\n",
       "      <td>['rules', 'developed', 'interim', 'put', 'toge...</td>\n",
       "      <td>0</td>\n",
       "    </tr>\n",
       "    <tr>\n",
       "      <th>1</th>\n",
       "      <td>['issues', 'wrestle', 'practice', 'groups', 'l...</td>\n",
       "      <td>['practice', 'groups', 'permitted', 'work', 'i...</td>\n",
       "      <td>2</td>\n",
       "    </tr>\n",
       "    <tr>\n",
       "      <th>3</th>\n",
       "      <td>['know', 'cant', 'really', 'defend', 'like', '...</td>\n",
       "      <td>['cant', 'defend', 'age']</td>\n",
       "      <td>0</td>\n",
       "    </tr>\n",
       "    <tr>\n",
       "      <th>7</th>\n",
       "      <td>['cockpit', 'country', 'st', 'anns', 'bay']</td>\n",
       "      <td>['st', 'anns', 'bay', 'cockpit', 'country']</td>\n",
       "      <td>2</td>\n",
       "    </tr>\n",
       "    <tr>\n",
       "      <th>8</th>\n",
       "      <td>['look', 'skin', 'youre', 'going', 'trouble', ...</td>\n",
       "      <td>['boss', 'fire', 'sees', 'slacking']</td>\n",
       "      <td>1</td>\n",
       "    </tr>\n",
       "    <tr>\n",
       "      <th>16</th>\n",
       "      <td>['people', 'knew', 'fatally', 'easy', 'poison'...</td>\n",
       "      <td>['many', 'people', 'poisoned', 'someone', 'mis...</td>\n",
       "      <td>1</td>\n",
       "    </tr>\n",
       "    <tr>\n",
       "      <th>17</th>\n",
       "      <td>['little', 'corner', 'world', 'policy', 'wonki...</td>\n",
       "      <td>['example', 'policy', 'wonking']</td>\n",
       "      <td>0</td>\n",
       "    </tr>\n",
       "    <tr>\n",
       "      <th>18</th>\n",
       "      <td>['life', 'prison', 'hes', 'available', 'parole...</td>\n",
       "      <td>['system', 'corrupt', 'wont', 'able', 'get', '...</td>\n",
       "      <td>1</td>\n",
       "    </tr>\n",
       "    <tr>\n",
       "      <th>19</th>\n",
       "      <td>['streets', 'crammed', 'vendors', 'selling', '...</td>\n",
       "      <td>['vendors', 'lined', 'streets', 'torches', 'fi...</td>\n",
       "      <td>2</td>\n",
       "    </tr>\n",
       "    <tr>\n",
       "      <th>20</th>\n",
       "      <td>['north', 'mytilini', 'stop', 'village', 'mori...</td>\n",
       "      <td>['nothing', 'special', 'see', 'village', 'moria']</td>\n",
       "      <td>2</td>\n",
       "    </tr>\n",
       "  </tbody>\n",
       "</table>\n",
       "</div>"
      ],
      "text/plain": [
       "                                              premise  \\\n",
       "0   ['comments', 'considered', 'formulating', 'int...   \n",
       "1   ['issues', 'wrestle', 'practice', 'groups', 'l...   \n",
       "3   ['know', 'cant', 'really', 'defend', 'like', '...   \n",
       "7         ['cockpit', 'country', 'st', 'anns', 'bay']   \n",
       "8   ['look', 'skin', 'youre', 'going', 'trouble', ...   \n",
       "16  ['people', 'knew', 'fatally', 'easy', 'poison'...   \n",
       "17  ['little', 'corner', 'world', 'policy', 'wonki...   \n",
       "18  ['life', 'prison', 'hes', 'available', 'parole...   \n",
       "19  ['streets', 'crammed', 'vendors', 'selling', '...   \n",
       "20  ['north', 'mytilini', 'stop', 'village', 'mori...   \n",
       "\n",
       "                                           hypothesis  label  \n",
       "0   ['rules', 'developed', 'interim', 'put', 'toge...      0  \n",
       "1   ['practice', 'groups', 'permitted', 'work', 'i...      2  \n",
       "3                           ['cant', 'defend', 'age']      0  \n",
       "7         ['st', 'anns', 'bay', 'cockpit', 'country']      2  \n",
       "8                ['boss', 'fire', 'sees', 'slacking']      1  \n",
       "16  ['many', 'people', 'poisoned', 'someone', 'mis...      1  \n",
       "17                   ['example', 'policy', 'wonking']      0  \n",
       "18  ['system', 'corrupt', 'wont', 'able', 'get', '...      1  \n",
       "19  ['vendors', 'lined', 'streets', 'torches', 'fi...      2  \n",
       "20  ['nothing', 'special', 'see', 'village', 'moria']      2  "
      ]
     },
     "execution_count": 55,
     "metadata": {},
     "output_type": "execute_result"
    }
   ],
   "source": [
    "df.head(10)"
   ]
  },
  {
   "cell_type": "code",
   "execution_count": 53,
   "id": "1b39001f",
   "metadata": {},
   "outputs": [],
   "source": [
    "# save the data after cleaning and preprocessing\n",
    "df.to_csv('train_after_cleanning.csv', index=False)"
   ]
  }
 ],
 "metadata": {
  "kernelspec": {
   "display_name": "Python 3.8.8 ('base')",
   "language": "python",
   "name": "python3"
  },
  "language_info": {
   "codemirror_mode": {
    "name": "ipython",
    "version": 3
   },
   "file_extension": ".py",
   "mimetype": "text/x-python",
   "name": "python",
   "nbconvert_exporter": "python",
   "pygments_lexer": "ipython3",
   "version": "3.8.8"
  },
  "vscode": {
   "interpreter": {
    "hash": "414b5cab56cab880a7b0416262af8f3e86aee34d31e3c8d522a91d46bac29820"
   }
  }
 },
 "nbformat": 4,
 "nbformat_minor": 5
}
